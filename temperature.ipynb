{
 "cells": [
  {
   "cell_type": "markdown",
   "metadata": {},
   "source": [
    "# Processor temperature\n",
    "\n",
    "We have a temperature sensor in the processor of our company's server. We want to analyze the data provided to determinate whether we should change the cooling system for a better one. It is expensive and as a data analyst we cannot make decisions without a basis.\n",
    "\n",
    "We provide the temperatures measured throughout the 24 hours of a day in a list-type data structure composed of 24 integers:\n",
    "```\n",
    "temperatures_C = [33,66,65,0,59,60,62,64,70,76,80,69,80,83,68,79,61,53,50,49,53,48,45,39]\n",
    "```\n",
    "\n",
    "## Goals\n",
    "\n",
    "1. Treatment of lists\n",
    "2. Use of loop or list comprenhention\n",
    "3. Calculation of the mean, minimum and maximum.\n",
    "4. Filtering of lists.\n",
    "5. Interpolate an outlier.\n",
    "6. Logical operators.\n",
    "7. Print"
   ]
  },
  {
   "cell_type": "markdown",
   "metadata": {},
   "source": [
    "## Temperature graph\n",
    "To facilitate understanding, the temperature graph is shown below. You do not have to do anything in this section. The test starts in **Problem**."
   ]
  },
  {
   "cell_type": "code",
   "execution_count": 14,
   "metadata": {},
   "outputs": [
    {
     "ename": "ModuleNotFoundError",
     "evalue": "No module named 'matplotlib'",
     "output_type": "error",
     "traceback": [
      "\u001b[1;31m---------------------------------------------------------------------------\u001b[0m",
      "\u001b[1;31mModuleNotFoundError\u001b[0m                       Traceback (most recent call last)",
      "\u001b[1;32m<ipython-input-14-5d623b03114c>\u001b[0m in \u001b[0;36m<module>\u001b[1;34m\u001b[0m\n\u001b[0;32m      1\u001b[0m \u001b[1;31m# import\u001b[0m\u001b[1;33m\u001b[0m\u001b[1;33m\u001b[0m\u001b[1;33m\u001b[0m\u001b[0m\n\u001b[1;32m----> 2\u001b[1;33m \u001b[1;32mimport\u001b[0m \u001b[0mmatplotlib\u001b[0m\u001b[1;33m.\u001b[0m\u001b[0mpyplot\u001b[0m \u001b[1;32mas\u001b[0m \u001b[0mplt\u001b[0m\u001b[1;33m\u001b[0m\u001b[1;33m\u001b[0m\u001b[0m\n\u001b[0m\u001b[0;32m      3\u001b[0m \u001b[0mget_ipython\u001b[0m\u001b[1;33m(\u001b[0m\u001b[1;33m)\u001b[0m\u001b[1;33m.\u001b[0m\u001b[0mrun_line_magic\u001b[0m\u001b[1;33m(\u001b[0m\u001b[1;34m'matplotlib'\u001b[0m\u001b[1;33m,\u001b[0m \u001b[1;34m'inline'\u001b[0m\u001b[1;33m)\u001b[0m\u001b[1;33m\u001b[0m\u001b[1;33m\u001b[0m\u001b[0m\n\u001b[0;32m      4\u001b[0m \u001b[1;33m\u001b[0m\u001b[0m\n\u001b[0;32m      5\u001b[0m \u001b[1;31m# axis x, axis y\u001b[0m\u001b[1;33m\u001b[0m\u001b[1;33m\u001b[0m\u001b[1;33m\u001b[0m\u001b[0m\n",
      "\u001b[1;31mModuleNotFoundError\u001b[0m: No module named 'matplotlib'"
     ]
    }
   ],
   "source": [
    "# import\n",
    "import matplotlib.pyplot as plt\n",
    "%matplotlib inline\n",
    "\n",
    "# axis x, axis y\n",
    "y = [33,66,65,0,59,60,62,64,70,76,80,81,80,83,90,79,61,53,50,49,53,48,45,39]\n",
    "x = list(range(len(y)))\n",
    "\n",
    "# plot\n",
    "plt.plot(x, y)\n",
    "plt.axhline(y=70, linewidth=1, color='r')\n",
    "plt.xlabel('hours')\n",
    "plt.ylabel('Temperature ºC')\n",
    "plt.title('Temperatures of our server throughout the day')"
   ]
  },
  {
   "cell_type": "markdown",
   "metadata": {},
   "source": [
    "## Problem\n",
    "\n",
    "If the sensor detects more than 4 hours with temperatures greater than or equal to 70ºC or any temperature above 80ºC or the average exceeds 65ºC throughout the day, we must give the order to change the cooling system to avoid damaging the processor.\n",
    "\n",
    "We will guide you step by step so you can make the decision by calculating some intermediate steps:\n",
    "\n",
    "1. Minimum temperature\n",
    "2. Maximum temperature\n",
    "3. Temperatures equal to or greater than 70ºC\n",
    "4. Average temperatures throughout the day.\n",
    "5. If there was a sensor failure at 03:00 and we did not capture the data, how would you estimate the value that we lack? Correct that value in the list of temperatures.\n",
    "6. Bonus: Our maintenance staff is from the United States and does not understand the international metric system. Pass temperatures to Degrees Fahrenheit.\n",
    "\n",
    "Formula: F = 1.8 * C + 32\n",
    "\n",
    "web: https://en.wikipedia.org/wiki/Conversion_of_units_of_temperature\n"
   ]
  },
  {
   "cell_type": "code",
   "execution_count": 131,
   "metadata": {},
   "outputs": [
    {
     "name": "stdout",
     "output_type": "stream",
     "text": [
      "The minimum temperature was 0ºC.\n",
      "\n",
      "The maximum temperature was 90ºC.\n",
      "\n",
      "The greatest temperatures were {76, 79, 80, 81, 83, 90}.\n",
      "\n",
      "The mean temperature throughout the day was 60.25ºC.\n",
      "\n",
      "The sensor failed at 3 oclock\n",
      "\n",
      "Estimating the Temperature at 3 oclock.\n",
      "Estimating the Temperature at 3 oclock..\n",
      "Estimating the Temperature at 3 oclock...\n",
      "Estimating the Temperature at 3 oclock.\n",
      "Estimating the Temperature at 3 oclock..\n",
      "Estimating the Temperature at 3 oclock...\n",
      "\n",
      "Was estimated 62ºC at 3 oclock.\n",
      "\n",
      "Right List: [33, 66, 65, 62, 59, 60, 62, 64, 70, 76, 80, 81, 80, 83, 90, 79, 61, 53, 50, 49, 53, 48, 45, 39]\n",
      "\n",
      "List in Farenheit: [91, 150, 149, 143, 138, 140, 143, 147, 158, 168, 176, 177, 176, 181, 194, 174, 141, 127, 122, 120, 127, 118, 113, 102]\n"
     ]
    }
   ],
   "source": [
    "import time\n",
    "# assign a variable to the list of temperatures\n",
    "y = [33,66,65,0,59,60,62,64,70,76,80,81,80,83,90,79,61,53,50,49,53,48,45,39]\n",
    "mv = 0\n",
    "bi = 0\n",
    "ai = 0\n",
    "et = 0\n",
    "# 1. Calculate the minimum of the list and print the value using print()\n",
    "\n",
    "mv = min(y)        \n",
    "        \n",
    "print('The minimum temperature was {}ºC.'.format(mv))\n",
    "\n",
    "# 2. Calculate the maximum of the list and print the value using print()\n",
    "mxv = max(y)\n",
    "      \n",
    "print('\\nThe maximum temperature was {}ºC.'.format(mxv))\n",
    "# 3. Items in the list that are greater than 70ºC and print the result\n",
    "gv = []\n",
    "for i in range(len(y)):\n",
    "    if y[i] > 70:\n",
    "        gv.append(y[i])\n",
    "v = set(gv)\n",
    "print(\"\\nThe greatest temperatures were {}.\".format(v))        \n",
    "\n",
    "# 4. Calculate the mean temperature throughout the day and print the result\n",
    "mc = sum(y) / len(y)\n",
    "print(\"\\nThe mean temperature throughout the day was {}ºC.\".format(mc))\n",
    "\n",
    "# 5.1 Solve the fault in the sensor by estimating a value\n",
    "for i in range(len(y)):    \n",
    "    if y[i] == 0:\n",
    "        \n",
    "        print(\"\\nThe sensor failed at {} oclock\".format(y.index(y[i])))\n",
    "        \n",
    "        print(\"\\nEstimating the Temperature at {} oclock.\".format(y.index(y[i])))\n",
    "        time.sleep(1)\n",
    "        print(\"Estimating the Temperature at {} oclock..\".format(y.index(y[i])))\n",
    "        time.sleep(1)\n",
    "        print(\"Estimating the Temperature at {} oclock...\".format(y.index(y[i])))\n",
    "        time.sleep(1)\n",
    "        print(\"Estimating the Temperature at {} oclock.\".format(y.index(y[i])))\n",
    "        time.sleep(1)\n",
    "        print(\"Estimating the Temperature at {} oclock..\".format(y.index(y[i])))\n",
    "        time.sleep(1)\n",
    "        print(\"Estimating the Temperature at {} oclock...\".format(y.index(y[i])))\n",
    "        bi = y[i-1] \n",
    "        ai = y[i+1]\n",
    "        et = (ai + bi) /2\n",
    "        print(\"\\nWas estimated {:.0f}ºC at {} oclock.\".format(et, y.index(y[i])))\n",
    "        \n",
    "# 5.2 Update of the estimated value at 03:00 on the list\n",
    "    if y[i] == 0:\n",
    "        y[i] = int(et)\n",
    "        \n",
    "        print(\"\\nRight List: {}\".format(y))\n",
    "# Bonus: convert the list of ºC to ºFarenheit\n",
    "lf = []\n",
    "tf = 0\n",
    "for i in y:\n",
    "    tf = (1.8 * (i)) + 32\n",
    "    lf.append(int(tf))\n",
    "    \n",
    "print(\"\\nList in Farenheit: {}\".format(lf))\n",
    "    \n",
    "    \n"
   ]
  },
  {
   "cell_type": "markdown",
   "metadata": {},
   "source": [
    "## Take the decision\n",
    "Remember that if the sensor detects more than 4 hours with temperatures greater than or equal to 70ºC or any temperature higher than 80ºC or the average was higher than 65ºC throughout the day, we must give the order to change the cooling system to avoid the danger of damaging the equipment:\n",
    "* more than 4 hours with temperatures greater than or equal to 70ºC\n",
    "* some temperature higher than 80ºC\n",
    "* average was higher than 65ºC throughout the day\n",
    "If any of these three is met, the cooling system must be changed.\n"
   ]
  },
  {
   "cell_type": "code",
   "execution_count": 132,
   "metadata": {},
   "outputs": [
    {
     "name": "stdout",
     "output_type": "stream",
     "text": [
      "True\n"
     ]
    }
   ],
   "source": [
    "# Print True or False depending on whether you would change the cooling system or not\n",
    "ch = 0\n",
    "for i in y:\n",
    "    if i > 80 or mc > 65:\n",
    "        print(\"True\")\n",
    "        break\n",
    "    if ch == 4:\n",
    "        print(\"True\")\n",
    "        break\n",
    "        \n",
    "    if i >= 70:\n",
    "        ch += 1\n",
    "    \n",
    "    if i < 70:\n",
    "        ch = 0\n",
    "\n",
    "if ch < 4 and i <= 80 and mc < 65:\n",
    "    print(\"False\")\n",
    "\n",
    "\n",
    "    "
   ]
  },
  {
   "cell_type": "markdown",
   "metadata": {},
   "source": [
    "## Future improvements\n",
    "1. We want the hours (not the temperatures) whose temperature exceeds 70ºC\n",
    "2. Condition that those hours are more than 4 consecutive and consecutive, not simply the sum of the whole set. Is this condition met?\n",
    "3. Average of each of the lists (ºC and ºF). How they relate?\n",
    "4. Standard deviation of each of the lists. How they relate?\n"
   ]
  },
  {
   "cell_type": "code",
   "execution_count": 136,
   "metadata": {},
   "outputs": [
    {
     "name": "stdout",
     "output_type": "stream",
     "text": [
      "temperatures that exceeded 70ºC were in the following hours:[9, 10, 11, 12, 13, 14, 15]\n"
     ]
    }
   ],
   "source": [
    "# 1. We want the hours (not the temperatures) whose temperature exceeds 70ºC\n",
    "\n",
    "hc = []\n",
    "for i in range(len(y)):\n",
    "    if y[i] > 70:\n",
    "        hc.append(i)\n",
    "print(\"temperatures that exceeded 70ºC were in the following hours:{}\".format(hc))       \n",
    "\n"
   ]
  },
  {
   "cell_type": "code",
   "execution_count": 146,
   "metadata": {},
   "outputs": [
    {
     "name": "stdout",
     "output_type": "stream",
     "text": [
      " Yes, this condition is True! \n"
     ]
    }
   ],
   "source": [
    "# 2. Condition that those hours are more than 4 consecutive and consecutive, not simply the sum of the whole set. Is this condition met?\n",
    "if len(hc) >= 5:\n",
    "    print(\" Yes, this condition is True! \")\n",
    "else:\n",
    "    print(\" No, this condition is False!\")\n",
    "        "
   ]
  },
  {
   "cell_type": "code",
   "execution_count": 121,
   "metadata": {},
   "outputs": [
    {
     "name": "stdout",
     "output_type": "stream",
     "text": [
      "\n",
      "The mean temperature in ºCelsius is 62.83ºC and in ºFarenheit is 144.79ºF.\n"
     ]
    }
   ],
   "source": [
    "# 3. Average of each of the lists (ºC and ºF). How they relate?\n",
    "mc = sum(y) / len(y)\n",
    "mf = sum(lf) / len(lf)\n",
    "\n",
    "print(\"\\nThe mean temperature in ºCelsius is {:.2f}ºC and in ºFarenheit is {:.2f}ºF.\".format(mc, mf))\n"
   ]
  },
  {
   "cell_type": "code",
   "execution_count": 129,
   "metadata": {},
   "outputs": [
    {
     "name": "stdout",
     "output_type": "stream",
     "text": [
      "Standard deviation in Celsius is 11.97 and in farenheit is 38.59.\n"
     ]
    }
   ],
   "source": [
    "# 4. Standard deviation of each of the lists. How they relate?\n",
    "dx = 0\n",
    "dpc = 0\n",
    "dy = 0\n",
    "dpf = 0\n",
    "\n",
    "for i in y:\n",
    "    dx = (i - mc) **2\n",
    "    dpc = dpc + dx\n",
    "    dpc = (dpc / len(y)) ** 1/2\n",
    "\n",
    "for i in lf:\n",
    "    dy = (i - mf) **2\n",
    "    dpf = dpf + dy\n",
    "    dpf = (dpf / len(lf)) ** 1/2\n",
    "\n",
    "print(\"Standard deviation in Celsius is {:.2f} and in farenheit is {:.2f}.\".format(dpc, dpf))\n",
    "\n"
   ]
  }
 ],
 "metadata": {
  "kernelspec": {
   "display_name": "Python 3",
   "language": "python",
   "name": "python3"
  },
  "language_info": {
   "codemirror_mode": {
    "name": "ipython",
    "version": 3
   },
   "file_extension": ".py",
   "mimetype": "text/x-python",
   "name": "python",
   "nbconvert_exporter": "python",
   "pygments_lexer": "ipython3",
   "version": "3.9.0"
  }
 },
 "nbformat": 4,
 "nbformat_minor": 2
}
